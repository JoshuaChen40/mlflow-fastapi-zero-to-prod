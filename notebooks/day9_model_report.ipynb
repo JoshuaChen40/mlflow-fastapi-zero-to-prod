{
 "cells": [
  {
   "cell_type": "code",
   "execution_count": 10,
   "id": "032f728e-33c5-4c24-809d-de92706a8e8e",
   "metadata": {
    "collapsed": true,
    "jupyter": {
     "outputs_hidden": true
    },
    "scrolled": true
   },
   "outputs": [
    {
     "name": "stdout",
     "output_type": "stream",
     "text": [
      "Anime: (12294, 7)\n",
      "Train: (633755, 3)\n",
      "Test: (316831, 3)\n"
     ]
    }
   ],
   "source": [
    "import os\n",
    "import pandas as pd\n",
    "import numpy as np\n",
    "import mlflow\n",
    "from sklearn.neighbors import NearestNeighbors\n",
    "from sklearn.feature_extraction.text import TfidfVectorizer\n",
    "from sklearn.metrics.pairwise import linear_kernel\n",
    "\n",
    "DATA_DIR = \"/usr/mlflow/data\"\n",
    "\n",
    "anime = pd.read_csv(os.path.join(DATA_DIR, \"anime_clean.csv\"))\n",
    "ratings_train = pd.read_csv(os.path.join(DATA_DIR, \"ratings_train.csv\"))\n",
    "ratings_test = pd.read_csv(os.path.join(DATA_DIR, \"ratings_test.csv\"))\n",
    "\n",
    "print(\"Anime:\", anime.shape)\n",
    "print(\"Train:\", ratings_train.shape)\n",
    "print(\"Test:\", ratings_test.shape)"
   ]
  },
  {
   "cell_type": "code",
   "execution_count": 11,
   "id": "91acf4db-00b8-4189-a9bc-dc03df763656",
   "metadata": {},
   "outputs": [],
   "source": [
    "# 建立 user-item 矩陣\n",
    "user_item_matrix = ratings_train.pivot_table(\n",
    "    index=\"user_id\", columns=\"anime_id\", values=\"rating\"\n",
    ").fillna(0)\n",
    "\n",
    "knn = NearestNeighbors(metric=\"cosine\", algorithm=\"brute\", n_neighbors=6, n_jobs=-1)\n",
    "knn.fit(user_item_matrix)\n",
    "\n",
    "def recommend_user_based(user_id, top_n=10):\n",
    "    if user_id not in user_item_matrix.index:\n",
    "        return pd.DataFrame(columns=[\"anime_id\", \"name\", \"genre\"])\n",
    "    \n",
    "    user_vector = user_item_matrix.loc[[user_id]]\n",
    "    distances, indices = knn.kneighbors(user_vector, n_neighbors=6)\n",
    "    neighbor_ids = user_item_matrix.index[indices.flatten()[1:]]  # 排除自己\n",
    "    \n",
    "    neighbor_ratings = user_item_matrix.loc[neighbor_ids]\n",
    "    mean_scores = neighbor_ratings.mean().sort_values(ascending=False)\n",
    "    \n",
    "    seen = user_item_matrix.loc[user_id]\n",
    "    seen = seen[seen > 0].index\n",
    "    recommendations = mean_scores.drop(seen).head(top_n)\n",
    "    \n",
    "    return anime[anime[\"anime_id\"].isin(recommendations.index)][[\"anime_id\",\"name\",\"genre\"]]"
   ]
  },
  {
   "cell_type": "code",
   "execution_count": 12,
   "id": "e3cfc951-283e-41c4-ba07-ea9f16879873",
   "metadata": {},
   "outputs": [],
   "source": [
    "anime[\"text\"] = anime[\"genre\"].fillna(\"\") + \" \" + anime[\"type\"].fillna(\"\")\n",
    "\n",
    "tfidf = TfidfVectorizer(stop_words=\"english\")\n",
    "tfidf_matrix = tfidf.fit_transform(anime[\"text\"])\n",
    "cosine_sim = linear_kernel(tfidf_matrix, tfidf_matrix)\n",
    "indices = pd.Series(anime.index, index=anime[\"anime_id\"]).drop_duplicates()\n",
    "\n",
    "def recommend_item_based(user_id, top_n=10):\n",
    "    user_ratings = ratings_train[ratings_train[\"user_id\"] == user_id]\n",
    "    liked = user_ratings[user_ratings[\"rating\"] > 7][\"anime_id\"].tolist()\n",
    "    \n",
    "    if len(liked) == 0:\n",
    "        return pd.DataFrame(columns=[\"anime_id\",\"name\"])\n",
    "    \n",
    "    sim_scores = np.zeros(cosine_sim.shape[0])\n",
    "    for anime_id in liked:\n",
    "        if anime_id in indices:\n",
    "            idx = indices[anime_id]\n",
    "            sim_scores += cosine_sim[idx]\n",
    "    \n",
    "    sim_scores = sim_scores / len(liked)\n",
    "    sim_indices = sim_scores.argsort()[::-1]\n",
    "    \n",
    "    seen = set(user_ratings[\"anime_id\"])\n",
    "    rec_ids = [anime.loc[i, \"anime_id\"] for i in sim_indices if anime.loc[i, \"anime_id\"] not in seen][:top_n]\n",
    "    \n",
    "    return anime[anime[\"anime_id\"].isin(rec_ids)][[\"anime_id\",\"name\",\"genre\"]]"
   ]
  },
  {
   "cell_type": "code",
   "execution_count": 13,
   "id": "b2fa1d9f-0302-4de1-ad9d-a2850b079cbf",
   "metadata": {},
   "outputs": [],
   "source": [
    "def precision_recall_at_k(user_id, model_func, k=10):\n",
    "    recs = model_func(user_id, top_n=k)\n",
    "    if recs.empty:\n",
    "        return np.nan, np.nan\n",
    "    \n",
    "    user_test = ratings_test[ratings_test[\"user_id\"] == user_id]\n",
    "    liked = set(user_test[user_test[\"rating\"] > 7][\"anime_id\"])\n",
    "    if len(liked) == 0:\n",
    "        return np.nan, np.nan\n",
    "    \n",
    "    hit = len(set(recs[\"anime_id\"]) & liked)\n",
    "    \n",
    "    precision = hit / k\n",
    "    recall = hit / len(liked)\n",
    "    return precision, recall"
   ]
  },
  {
   "cell_type": "code",
   "execution_count": 14,
   "id": "dc1be5f5-13af-46b7-8dcb-140a8095b2bd",
   "metadata": {},
   "outputs": [
    {
     "name": "stdout",
     "output_type": "stream",
     "text": [
      "              model  precision@10  recall@10\n",
      "0     user_based_cf      0.004608   0.015916\n",
      "1  item_based_tfidf      0.005164   0.016523\n"
     ]
    }
   ],
   "source": [
    "sample_users = np.random.choice(ratings_train[\"user_id\"].unique(), 300, replace=False)\n",
    "\n",
    "def evaluate_model(model_func, name):\n",
    "    precisions, recalls = [], []\n",
    "    for u in sample_users:\n",
    "        p, r = precision_recall_at_k(u, model_func, 10)\n",
    "        if not np.isnan(p): precisions.append(p)\n",
    "        if not np.isnan(r): recalls.append(r)\n",
    "    return {\n",
    "        \"model\": name,\n",
    "        \"precision@10\": np.mean(precisions),\n",
    "        \"recall@10\": np.mean(recalls)\n",
    "    }\n",
    "\n",
    "results = []\n",
    "results.append(evaluate_model(recommend_user_based, \"user_based_cf\"))\n",
    "results.append(evaluate_model(recommend_item_based, \"item_based_tfidf\"))\n",
    "\n",
    "df_compare = pd.DataFrame(results)\n",
    "print(df_compare)"
   ]
  },
  {
   "cell_type": "code",
   "execution_count": 16,
   "id": "62b65f1e-d594-45d6-8018-b009a81587d8",
   "metadata": {},
   "outputs": [
    {
     "name": "stdout",
     "output_type": "stream",
     "text": [
      "   user_id                                      liked_in_test  \\\n",
      "0    43880                                           [Naruto]   \n",
      "1    12909  [Binbougami ga!, Dungeon ni Deai wo Motomeru n...   \n",
      "2    69001  [Higashi no Eden Movie I: The King of Eden, K,...   \n",
      "\n",
      "                                user_based_recommend  \\\n",
      "0  [Cowboy Bebop, Towa no Quon 6: Towa no Quon, T...   \n",
      "1  [Cowboy Bebop, Death Note, Dragon Ball Z, FLCL...   \n",
      "2  [Kokoro Connect: Michi Random, Mawaru Penguind...   \n",
      "\n",
      "                                item_based_recommend  \n",
      "0  [Gungrave, Guilty Crown, Kurau Phantom Memory,...  \n",
      "1  [Wolf&#039;s Rain, Bungou Stray Dogs, GetBacke...  \n",
      "2  [High School DxD BorN, Trinity Seven, Omamori ...  \n"
     ]
    }
   ],
   "source": [
    "report_users = ratings_test[\"user_id\"].drop_duplicates().sample(3, random_state=42)\n",
    "\n",
    "records = []\n",
    "for u in report_users:\n",
    "    liked = ratings_test[(ratings_test[\"user_id\"] == u) & (ratings_test[\"rating\"] > 7)]\n",
    "    liked_names = anime[anime[\"anime_id\"].isin(liked[\"anime_id\"])][\"name\"].tolist()\n",
    "    \n",
    "    recs_u = recommend_user_based(u, top_n=10)[\"name\"].tolist()\n",
    "    recs_i = recommend_item_based(u, top_n=10)[\"name\"].tolist()\n",
    "    \n",
    "    records.append({\n",
    "        \"user_id\": u,\n",
    "        \"liked_in_test\": liked_names,\n",
    "        \"user_based_recommend\": recs_u,\n",
    "        \"item_based_recommend\": recs_i\n",
    "    })\n",
    "\n",
    "df_examples = pd.DataFrame(records)\n",
    "print(df_examples)"
   ]
  },
  {
   "cell_type": "code",
   "execution_count": 17,
   "id": "f8404dbe-c6af-45ff-b444-8886d97b966c",
   "metadata": {},
   "outputs": [
    {
     "name": "stderr",
     "output_type": "stream",
     "text": [
      "2025/09/21 16:24:50 INFO mlflow.tracking.fluent: Experiment with name 'anime-recommender-report' does not exist. Creating a new experiment.\n"
     ]
    }
   ],
   "source": [
    "mlflow.set_tracking_uri(os.getenv(\"MLFLOW_TRACKING_URI\", \"http://mlflow:5000\"))\n",
    "mlflow.set_experiment(\"anime-recommender-report\")\n",
    "\n",
    "# 存 CSV\n",
    "df_compare.to_csv(\"day9_compare_metrics.csv\", index=False)\n",
    "df_examples.to_csv(\"day9_recommend_examples.csv\", index=False)\n",
    "\n",
    "with mlflow.start_run(run_name=\"day9_model_report\"):\n",
    "    # log metrics\n",
    "    for row in results:\n",
    "        mlflow.log_metric(f\"{row['model']}_precision_at_10\", row[\"precision@10\"])\n",
    "        mlflow.log_metric(f\"{row['model']}_recall_at_10\", row[\"recall@10\"])\n",
    "    \n",
    "    # log artifacts\n",
    "    mlflow.log_artifact(\"day9_compare_metrics.csv\", artifact_path=\"reports\")\n",
    "    mlflow.log_artifact(\"day9_recommend_examples.csv\", artifact_path=\"reports\")"
   ]
  }
 ],
 "metadata": {
  "kernelspec": {
   "display_name": "Python 3 (ipykernel)",
   "language": "python",
   "name": "python3"
  },
  "language_info": {
   "codemirror_mode": {
    "name": "ipython",
    "version": 3
   },
   "file_extension": ".py",
   "mimetype": "text/x-python",
   "name": "python",
   "nbconvert_exporter": "python",
   "pygments_lexer": "ipython3",
   "version": "3.10.18"
  }
 },
 "nbformat": 4,
 "nbformat_minor": 5
}
