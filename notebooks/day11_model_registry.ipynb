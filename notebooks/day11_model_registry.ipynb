{
 "cells": [
  {
   "cell_type": "code",
   "execution_count": 2,
   "id": "b251df20-852d-403b-9f79-4bfcbffc4aef",
   "metadata": {},
   "outputs": [
    {
     "name": "stdout",
     "output_type": "stream",
     "text": [
      "Anime: (12294, 7)\n",
      "Train: (633755, 3)\n",
      "Test: (316831, 3)\n"
     ]
    }
   ],
   "source": [
    "import os\n",
    "import pandas as pd\n",
    "\n",
    "DATA_DIR = \"/usr/mlflow/data\"\n",
    "\n",
    "anime = pd.read_csv(os.path.join(DATA_DIR, \"anime_clean.csv\"))\n",
    "ratings_train = pd.read_csv(os.path.join(DATA_DIR, \"ratings_train.csv\"))\n",
    "ratings_test = pd.read_csv(os.path.join(DATA_DIR, \"ratings_test.csv\"))\n",
    "\n",
    "print(\"Anime:\", anime.shape)\n",
    "print(\"Train:\", ratings_train.shape)\n",
    "print(\"Test:\", ratings_test.shape)"
   ]
  },
  {
   "cell_type": "code",
   "execution_count": 5,
   "id": "050a98c6-6547-4e94-b1cc-40248497c590",
   "metadata": {},
   "outputs": [
    {
     "name": "stdout",
     "output_type": "stream",
     "text": [
      "Top-10 Anime: ['Kimi no Na wa.', 'Fullmetal Alchemist: Brotherhood', 'Gintama°', 'Steins;Gate', 'Gintama&#039;', 'Haikyuu!!: Karasuno Koukou VS Shiratorizawa Gakuen Koukou', 'Hunter x Hunter (2011)', 'Ginga Eiyuu Densetsu', 'Gintama&#039;: Enchousen', 'Gintama']\n"
     ]
    }
   ],
   "source": [
    "anime_stats = (\n",
    "    ratings_train.groupby(\"anime_id\")\n",
    "    .agg(avg_rating=(\"rating\", \"mean\"),\n",
    "         count=(\"rating\", \"count\"))\n",
    "    .reset_index()\n",
    ")\n",
    "\n",
    "# 過濾掉評分數太少的動畫\n",
    "anime_stats = anime_stats[anime_stats[\"count\"] > 50]\n",
    "\n",
    "# 取 Top-10\n",
    "top10 = anime_stats.sort_values(\n",
    "    [\"avg_rating\", \"count\"], ascending=[False, False]\n",
    ").head(10)\n",
    "\n",
    "top10_ids = top10[\"anime_id\"].tolist()\n",
    "top10_titles = anime[anime[\"anime_id\"].isin(top10_ids)][\"name\"].tolist()\n",
    "\n",
    "print(\"Top-10 Anime:\", top10_titles)\n"
   ]
  },
  {
   "cell_type": "code",
   "execution_count": 6,
   "id": "f358ea59-809e-4dfb-a16c-a741b6b38f1a",
   "metadata": {},
   "outputs": [],
   "source": [
    "import mlflow.pyfunc\n",
    "\n",
    "class PopularTop10(mlflow.pyfunc.PythonModel):\n",
    "    def __init__(self, df, top10_ids):\n",
    "        self.df = df\n",
    "        self.top10_ids = top10_ids\n",
    "\n",
    "    # 這裡的 predict 就是未來 API 推薦會呼叫的方法\n",
    "    def predict(self, context, model_input):\n",
    "        return self.df[self.df[\"anime_id\"].isin(self.top10_ids)][\"name\"].tolist()"
   ]
  },
  {
   "cell_type": "code",
   "execution_count": 9,
   "id": "3825736c-9d58-4c17-8ed6-b267fca8115d",
   "metadata": {},
   "outputs": [
    {
     "name": "stderr",
     "output_type": "stream",
     "text": [
      "2025/09/22 16:39:42 INFO mlflow.tracking.fluent: Experiment with name 'anime-recsys-model-registry' does not exist. Creating a new experiment.\n",
      "/usr/local/lib/python3.10/site-packages/_distutils_hack/__init__.py:18: UserWarning: Distutils was imported before Setuptools, but importing Setuptools also replaces the `distutils` module in `sys.modules`. This may lead to undesirable behaviors or errors. To avoid these issues, avoid using distutils directly, ensure that setuptools is installed in the traditional way (e.g. not an editable install), and/or make sure that setuptools is always imported before distutils.\n",
      "  warnings.warn(\n",
      "/usr/local/lib/python3.10/site-packages/_distutils_hack/__init__.py:33: UserWarning: Setuptools is replacing distutils.\n",
      "  warnings.warn(\"Setuptools is replacing distutils.\")\n",
      "Registered model 'AnimeRecsysModel' already exists. Creating a new version of this model...\n",
      "2025/09/22 16:39:43 INFO mlflow.store.model_registry.abstract_store: Waiting up to 300 seconds for model version to finish creation. Model name: AnimeRecsysModel, version 2\n",
      "Created version '2' of model 'AnimeRecsysModel'.\n"
     ]
    }
   ],
   "source": [
    "import mlflow\n",
    "from mlflow.tracking import MlflowClient\n",
    "\n",
    "mlflow.set_tracking_uri(\"http://mlflow:5000\")\n",
    "mlflow.set_experiment(\"anime-recsys-model-registry\")\n",
    "\n",
    "with mlflow.start_run(run_name=\"popular-top10\") as run:\n",
    "    # 紀錄參數與評估指標\n",
    "    mlflow.log_param(\"model_type\", \"PopularTop10\")\n",
    "    mlflow.log_metric(\"avg_rating_mean\", top10[\"avg_rating\"].mean())\n",
    "    mlflow.log_metric(\"min_count\", top10[\"count\"].min())\n",
    "\n",
    "    # 註冊模型到 Registry\n",
    "    mlflow.pyfunc.log_model(\n",
    "        artifact_path=\"model\",\n",
    "        python_model=PopularTop10(anime, top10_ids),\n",
    "        registered_model_name=\"AnimeRecsysModel\"\n",
    "    )\n"
   ]
  },
  {
   "cell_type": "code",
   "execution_count": 8,
   "id": "19584a66-3f04-4bcf-be47-cf03e6050ac6",
   "metadata": {},
   "outputs": [
    {
     "name": "stderr",
     "output_type": "stream",
     "text": [
      "/tmp/ipykernel_28/1306495406.py:4: FutureWarning: ``mlflow.tracking.client.MlflowClient.transition_model_version_stage`` is deprecated since 2.9.0. Model registry stages will be removed in a future major release. To learn more about the deprecation of model registry stages, see our migration guide here: https://mlflow.org/docs/latest/model-registry.html#migrating-from-stages\n",
      "  client.transition_model_version_stage(\n"
     ]
    },
    {
     "data": {
      "text/plain": [
       "<ModelVersion: aliases=[], creation_timestamp=1758558605820, current_stage='Staging', description='', last_updated_timestamp=1758558798877, name='AnimeRecsysModel', run_id='5e9cba83ade242f5985cd41466f4f38c', run_link='', source='/mlflow/artifacts/1/5e9cba83ade242f5985cd41466f4f38c/artifacts/model', status='READY', status_message='', tags={}, user_id='', version='1'>"
      ]
     },
     "execution_count": 8,
     "metadata": {},
     "output_type": "execute_result"
    }
   ],
   "source": [
    "client = MlflowClient()\n",
    "\n",
    "# 把 Version 1 升級到 Staging\n",
    "client.transition_model_version_stage(\n",
    "    name=\"AnimeRecsysModel\",\n",
    "    version=1,\n",
    "    stage=\"Staging\"\n",
    ")"
   ]
  }
 ],
 "metadata": {
  "kernelspec": {
   "display_name": "Python 3 (ipykernel)",
   "language": "python",
   "name": "python3"
  },
  "language_info": {
   "codemirror_mode": {
    "name": "ipython",
    "version": 3
   },
   "file_extension": ".py",
   "mimetype": "text/x-python",
   "name": "python",
   "nbconvert_exporter": "python",
   "pygments_lexer": "ipython3",
   "version": "3.10.18"
  }
 },
 "nbformat": 4,
 "nbformat_minor": 5
}
