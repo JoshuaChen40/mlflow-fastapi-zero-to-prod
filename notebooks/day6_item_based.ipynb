{
 "cells": [
  {
   "cell_type": "code",
   "execution_count": 1,
   "id": "83ade166-c7b7-40c2-8ec3-ce06aa30f624",
   "metadata": {},
   "outputs": [
    {
     "name": "stdout",
     "output_type": "stream",
     "text": [
      "Anime: (12294, 7)\n",
      "Train: (633755, 3)\n",
      "Test: (316831, 3)\n"
     ]
    }
   ],
   "source": [
    "import os\n",
    "import pandas as pd\n",
    "import numpy as np\n",
    "from sklearn.feature_extraction.text import TfidfVectorizer\n",
    "from sklearn.metrics.pairwise import linear_kernel\n",
    "import mlflow\n",
    "\n",
    "DATA_DIR = \"/usr/mlflow/data\"\n",
    "\n",
    "anime = pd.read_csv(os.path.join(DATA_DIR, \"anime_clean.csv\"))\n",
    "ratings_train = pd.read_csv(os.path.join(DATA_DIR, \"ratings_train.csv\"))\n",
    "ratings_test = pd.read_csv(os.path.join(DATA_DIR, \"ratings_test.csv\"))\n",
    "\n",
    "print(\"Anime:\", anime.shape)\n",
    "print(\"Train:\", ratings_train.shape)\n",
    "print(\"Test:\", ratings_test.shape)"
   ]
  },
  {
   "cell_type": "code",
   "execution_count": 2,
   "id": "23186517-0434-4deb-bec9-8f8b4983b5cd",
   "metadata": {
    "scrolled": true
   },
   "outputs": [
    {
     "data": {
      "text/html": [
       "<div>\n",
       "<style scoped>\n",
       "    .dataframe tbody tr th:only-of-type {\n",
       "        vertical-align: middle;\n",
       "    }\n",
       "\n",
       "    .dataframe tbody tr th {\n",
       "        vertical-align: top;\n",
       "    }\n",
       "\n",
       "    .dataframe thead th {\n",
       "        text-align: right;\n",
       "    }\n",
       "</style>\n",
       "<table border=\"1\" class=\"dataframe\">\n",
       "  <thead>\n",
       "    <tr style=\"text-align: right;\">\n",
       "      <th></th>\n",
       "      <th>name</th>\n",
       "      <th>text</th>\n",
       "    </tr>\n",
       "  </thead>\n",
       "  <tbody>\n",
       "    <tr>\n",
       "      <th>0</th>\n",
       "      <td>Kimi no Na wa.</td>\n",
       "      <td>Drama, Romance, School, Supernatural Movie</td>\n",
       "    </tr>\n",
       "    <tr>\n",
       "      <th>1</th>\n",
       "      <td>Fullmetal Alchemist: Brotherhood</td>\n",
       "      <td>Action, Adventure, Drama, Fantasy, Magic, Mili...</td>\n",
       "    </tr>\n",
       "    <tr>\n",
       "      <th>2</th>\n",
       "      <td>Gintama°</td>\n",
       "      <td>Action, Comedy, Historical, Parody, Samurai, S...</td>\n",
       "    </tr>\n",
       "    <tr>\n",
       "      <th>3</th>\n",
       "      <td>Steins;Gate</td>\n",
       "      <td>Sci-Fi, Thriller TV</td>\n",
       "    </tr>\n",
       "    <tr>\n",
       "      <th>4</th>\n",
       "      <td>Gintama&amp;#039;</td>\n",
       "      <td>Action, Comedy, Historical, Parody, Samurai, S...</td>\n",
       "    </tr>\n",
       "  </tbody>\n",
       "</table>\n",
       "</div>"
      ],
      "text/plain": [
       "                               name  \\\n",
       "0                    Kimi no Na wa.   \n",
       "1  Fullmetal Alchemist: Brotherhood   \n",
       "2                          Gintama°   \n",
       "3                       Steins;Gate   \n",
       "4                     Gintama&#039;   \n",
       "\n",
       "                                                text  \n",
       "0         Drama, Romance, School, Supernatural Movie  \n",
       "1  Action, Adventure, Drama, Fantasy, Magic, Mili...  \n",
       "2  Action, Comedy, Historical, Parody, Samurai, S...  \n",
       "3                                Sci-Fi, Thriller TV  \n",
       "4  Action, Comedy, Historical, Parody, Samurai, S...  "
      ]
     },
     "execution_count": 2,
     "metadata": {},
     "output_type": "execute_result"
    }
   ],
   "source": [
    "anime[\"text\"] = anime[\"genre\"].fillna(\"\") + \" \" + anime[\"type\"].fillna(\"\")\n",
    "anime[[\"name\", \"text\"]].head()"
   ]
  },
  {
   "cell_type": "code",
   "execution_count": 3,
   "id": "8b556f6a-8b13-430b-85e4-0149d8bb42ac",
   "metadata": {
    "scrolled": true
   },
   "outputs": [
    {
     "name": "stdout",
     "output_type": "stream",
     "text": [
      "TF-IDF shape: (12294, 52)\n"
     ]
    }
   ],
   "source": [
    "tfidf = TfidfVectorizer(stop_words=\"english\")\n",
    "tfidf_matrix = tfidf.fit_transform(anime[\"text\"])\n",
    "\n",
    "print(\"TF-IDF shape:\", tfidf_matrix.shape)"
   ]
  },
  {
   "cell_type": "code",
   "execution_count": 4,
   "id": "28c3d3bb-a0f3-4da2-8598-c443c6c7f079",
   "metadata": {},
   "outputs": [
    {
     "name": "stdout",
     "output_type": "stream",
     "text": [
      "Cosine matrix shape: (12294, 12294)\n"
     ]
    }
   ],
   "source": [
    "cosine_sim = linear_kernel(tfidf_matrix, tfidf_matrix)\n",
    "print(\"Cosine matrix shape:\", cosine_sim.shape)"
   ]
  },
  {
   "cell_type": "code",
   "execution_count": 5,
   "id": "26a6628b-206f-4809-b111-a076ec1ab5fc",
   "metadata": {},
   "outputs": [],
   "source": [
    "indices = pd.Series(anime.index, index=anime[\"anime_id\"]).drop_duplicates()\n",
    "\n",
    "def recommend_item_based(user_id, top_n=10):\n",
    "    # 找出 user 在 train 裡喜歡的動畫\n",
    "    user_ratings = ratings_train[ratings_train[\"user_id\"] == user_id]\n",
    "    liked = user_ratings[user_ratings[\"rating\"] > 7][\"anime_id\"].tolist()\n",
    "    \n",
    "    if len(liked) == 0:\n",
    "        return pd.DataFrame(columns=[\"name\", \"genre\"])\n",
    "    \n",
    "    sim_scores = np.zeros(cosine_sim.shape[0])\n",
    "    \n",
    "    for anime_id in liked:\n",
    "        if anime_id in indices:\n",
    "            idx = indices[anime_id]\n",
    "            sim_scores += cosine_sim[idx]\n",
    "    \n",
    "    sim_scores = sim_scores / len(liked)\n",
    "    sim_indices = sim_scores.argsort()[::-1]\n",
    "    \n",
    "    # 排除已看過的動畫\n",
    "    seen = set(user_ratings[\"anime_id\"])\n",
    "    rec_ids = [anime.loc[i, \"anime_id\"] for i in sim_indices if anime.loc[i, \"anime_id\"] not in seen]\n",
    "    \n",
    "    rec_ids = rec_ids[:top_n]\n",
    "    return anime[anime[\"anime_id\"].isin(rec_ids)][[\"name\", \"genre\"]]"
   ]
  },
  {
   "cell_type": "code",
   "execution_count": 6,
   "id": "3816ea00-24fb-49e6-b31a-a3c867d9dc66",
   "metadata": {},
   "outputs": [
    {
     "name": "stdout",
     "output_type": "stream",
     "text": [
      "Item-based Precision@10: 0.0013513513513513514\n",
      "Item-based Recall@10: 0.0015015015015015015\n"
     ]
    }
   ],
   "source": [
    "def precision_recall_at_k_item(user_id, k=10):\n",
    "    recs = recommend_item_based(user_id, top_n=k)\n",
    "    if recs.empty:\n",
    "        return np.nan, np.nan\n",
    "    \n",
    "    user_test = ratings_test[ratings_test[\"user_id\"] == user_id]\n",
    "    liked = set(user_test[user_test[\"rating\"] > 7][\"anime_id\"])\n",
    "    \n",
    "    if len(liked) == 0:\n",
    "        return np.nan, np.nan\n",
    "    \n",
    "    hit = len(set(recs.index) & liked)\n",
    "    \n",
    "    precision = hit / k\n",
    "    recall = hit / len(liked)\n",
    "    \n",
    "    return precision, recall\n",
    "\n",
    "# 抽樣部分使用者\n",
    "sample_users = np.random.choice(ratings_train[\"user_id\"].unique(), 100, replace=False)\n",
    "\n",
    "precisions, recalls = [], []\n",
    "for u in sample_users:\n",
    "    p, r = precision_recall_at_k_item(u, 10)\n",
    "    if not np.isnan(p):\n",
    "        precisions.append(p)\n",
    "    if not np.isnan(r):\n",
    "        recalls.append(r)\n",
    "\n",
    "mean_precision = np.mean(precisions)\n",
    "mean_recall = np.mean(recalls)\n",
    "\n",
    "print(\"Item-based Precision@10:\", mean_precision)\n",
    "print(\"Item-based Recall@10:\", mean_recall)"
   ]
  },
  {
   "cell_type": "code",
   "execution_count": 10,
   "id": "48861d4c-fb53-43d1-a656-30548045cea2",
   "metadata": {},
   "outputs": [],
   "source": [
    "import os, mlflow\n",
    "mlflow.set_tracking_uri(os.getenv(\"MLFLOW_TRACKING_URI\", \"http://mlflow:5000\"))\n",
    "\n",
    "mlflow.set_experiment(\"anime-recommender-item-based\")\n",
    "\n",
    "with mlflow.start_run(run_name=\"item_based_tfidf\"):\n",
    "    mlflow.log_param(\"top_n\", 10)\n",
    "    mlflow.log_param(\"feature\", \"genre+type TF-IDF\")\n",
    "    \n",
    "    mlflow.log_metric(\"precision_at_10\", mean_precision)\n",
    "    mlflow.log_metric(\"recall_at_10\", mean_recall)"
   ]
  },
  {
   "cell_type": "code",
   "execution_count": 8,
   "id": "cd84a11c-4e06-48e2-a633-52fab7eca762",
   "metadata": {},
   "outputs": [
    {
     "name": "stdout",
     "output_type": "stream",
     "text": [
      "測試使用者 ID: 71942\n",
      "\n",
      "🎯 Test set 裡這位使用者喜歡的動畫：\n",
      "                                    name  \\\n",
      "4                          Gintama&#039;   \n",
      "113                     Noragami Aragoto   \n",
      "353     Phantom: Requiem for the Phantom   \n",
      "595                     Plastic Memories   \n",
      "621            Akagami no Shirayuki-hime   \n",
      "668     Yamada-kun to 7-nin no Majo (TV)   \n",
      "724                  High School DxD New   \n",
      "1333  Bleach Movie 1: Memories of Nobody   \n",
      "1442                         Date A Live   \n",
      "2159           Neppuu Kairiku Bushi Road   \n",
      "\n",
      "                                                  genre  \n",
      "4     Action, Comedy, Historical, Parody, Samurai, S...  \n",
      "113            Action, Adventure, Shounen, Supernatural  \n",
      "353                     Action, Drama, Seinen, Thriller  \n",
      "595                              Drama, Romance, Sci-Fi  \n",
      "621                     Drama, Fantasy, Romance, Shoujo  \n",
      "668   Comedy, Harem, Mystery, Romance, School, Shoun...  \n",
      "724   Action, Comedy, Demons, Ecchi, Harem, Romance,...  \n",
      "1333                     Action, Adventure, Super Power  \n",
      "1442      Comedy, Harem, Mecha, Romance, School, Sci-Fi  \n",
      "2159                     Action, Fantasy, Mecha, Sci-Fi  \n",
      "\n",
      "🤖 模型推薦的前 10 部動畫：\n",
      "                               name  \\\n",
      "161    Bungou Stray Dogs 2nd Season   \n",
      "275              Durarara!!x2 Ketsu   \n",
      "360               Durarara!!x2 Shou   \n",
      "927               Bungou Stray Dogs   \n",
      "1740           Cuticle Tantei Inaba   \n",
      "2367      Inari, Konkon, Koi Iroha.   \n",
      "2816       Seikimatsu Occult Gakuin   \n",
      "4572                        Rewrite   \n",
      "6312                          Isuca   \n",
      "11096                     Tsugumomo   \n",
      "\n",
      "                                                   genre  \n",
      "161                        Mystery, Seinen, Supernatural  \n",
      "275                        Action, Mystery, Supernatural  \n",
      "360                        Action, Mystery, Supernatural  \n",
      "927        Action, Comedy, Mystery, Seinen, Supernatural  \n",
      "1740      Action, Comedy, Mystery, Shounen, Supernatural  \n",
      "2367       Comedy, Romance, School, Seinen, Supernatural  \n",
      "2816       Comedy, Mystery, School, Sci-Fi, Supernatural  \n",
      "4572       Action, Comedy, Romance, School, Supernatural  \n",
      "6312   Action, Comedy, Ecchi, Romance, School, Seinen...  \n",
      "11096  Action, Comedy, Ecchi, School, Seinen, Superna...  \n"
     ]
    }
   ],
   "source": [
    "# 隨機挑一個 test user\n",
    "test_user = ratings_test[\"user_id\"].sample(1, random_state=42).iloc[0]\n",
    "print(\"測試使用者 ID:\", test_user)\n",
    "\n",
    "# 該使用者在 test set 裡喜歡的動畫\n",
    "user_test = ratings_test[(ratings_test[\"user_id\"] == test_user) & (ratings_test[\"rating\"] > 7)]\n",
    "liked_anime = anime[anime[\"anime_id\"].isin(user_test[\"anime_id\"])][[\"name\", \"genre\"]]\n",
    "\n",
    "print(\"\\n🎯 Test set 裡這位使用者喜歡的動畫：\")\n",
    "print(liked_anime.head(10))  # 最多列 10 部\n",
    "\n",
    "# 模型推薦的動畫\n",
    "recommended = recommend_item_based(test_user, top_n=10)\n",
    "\n",
    "print(\"\\n🤖 模型推薦的前 10 部動畫：\")\n",
    "print(recommended)"
   ]
  }
 ],
 "metadata": {
  "kernelspec": {
   "display_name": "Python 3 (ipykernel)",
   "language": "python",
   "name": "python3"
  },
  "language_info": {
   "codemirror_mode": {
    "name": "ipython",
    "version": 3
   },
   "file_extension": ".py",
   "mimetype": "text/x-python",
   "name": "python",
   "nbconvert_exporter": "python",
   "pygments_lexer": "ipython3",
   "version": "3.10.18"
  }
 },
 "nbformat": 4,
 "nbformat_minor": 5
}
