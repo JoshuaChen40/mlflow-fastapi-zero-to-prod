{
 "cells": [
  {
   "cell_type": "code",
   "execution_count": 1,
   "id": "cb961163-6350-482d-9fb6-17abb0138be8",
   "metadata": {},
   "outputs": [
    {
     "name": "stderr",
     "output_type": "stream",
     "text": [
      "/usr/local/lib/python3.10/site-packages/tqdm/auto.py:21: TqdmWarning: IProgress not found. Please update jupyter and ipywidgets. See https://ipywidgets.readthedocs.io/en/stable/user_install.html\n",
      "  from .autonotebook import tqdm as notebook_tqdm\n"
     ]
    },
    {
     "name": "stdout",
     "output_type": "stream",
     "text": [
      "   anime_id                              name  \\\n",
      "0     32281                    Kimi no Na wa.   \n",
      "1      5114  Fullmetal Alchemist: Brotherhood   \n",
      "2     28977                          Gintama°   \n",
      "3      9253                       Steins;Gate   \n",
      "4      9969                     Gintama&#039;   \n",
      "\n",
      "                                               genre   type episodes  rating  \\\n",
      "0               Drama, Romance, School, Supernatural  Movie        1    9.37   \n",
      "1  Action, Adventure, Drama, Fantasy, Magic, Mili...     TV       64    9.26   \n",
      "2  Action, Comedy, Historical, Parody, Samurai, S...     TV       51    9.25   \n",
      "3                                   Sci-Fi, Thriller     TV       24    9.17   \n",
      "4  Action, Comedy, Historical, Parody, Samurai, S...     TV       51    9.16   \n",
      "\n",
      "   members  \n",
      "0   200630  \n",
      "1   793665  \n",
      "2   114262  \n",
      "3   673572  \n",
      "4   151266  \n",
      "   user_id  anime_id  rating\n",
      "0        1        20      -1\n",
      "1        1        24      -1\n",
      "2        1        79      -1\n",
      "3        1       226      -1\n",
      "4        1       241      -1\n"
     ]
    }
   ],
   "source": [
    "import os\n",
    "import pandas as pd\n",
    "from ydata_profiling import ProfileReport\n",
    "\n",
    "DATA_DIR = \"/usr/mlflow/data\"\n",
    "\n",
    "anime = pd.read_csv(os.path.join(DATA_DIR, \"anime.csv\"))\n",
    "ratings = pd.read_csv(os.path.join(DATA_DIR, \"rating.csv\"))\n",
    "\n",
    "print(anime.head())\n",
    "print(ratings.head())"
   ]
  },
  {
   "cell_type": "code",
   "execution_count": 2,
   "id": "2aa8aff8-af26-4d6d-b05a-c7288c7c7385",
   "metadata": {
    "scrolled": true
   },
   "outputs": [
    {
     "name": "stderr",
     "output_type": "stream",
     "text": [
      "Summarize dataset:  81%|████████  | 21/26 [00:04<00:00,  7.18it/s, Missing diagram heatmap]   /usr/local/lib/python3.10/site-packages/seaborn/matrix.py:260: FutureWarning: Format strings passed to MaskedConstant are ignored, but in future may error or produce different behavior\n",
      "  annotation = (\"{:\" + self.fmt + \"}\").format(val)\n",
      "/usr/local/lib/python3.10/site-packages/ydata_profiling/model/missing.py:78: UserWarning: There was an attempt to generate the Heatmap missing values diagrams, but this failed.\n",
      "To hide this warning, disable the calculation\n",
      "(using `df.profile_report(missing_diagrams={\"Heatmap\": False}`)\n",
      "If this is problematic for your use case, please report this as an issue:\n",
      "https://github.com/ydataai/ydata-profiling/issues\n",
      "(include the error message: 'could not convert string to float: '--'')\n",
      "  warnings.warn(\n",
      "Summarize dataset: 100%|██████████| 26/26 [00:05<00:00,  5.14it/s, Completed]               \n",
      "Generate report structure: 100%|██████████| 1/1 [00:03<00:00,  3.21s/it]\n",
      "Render HTML: 100%|██████████| 1/1 [00:00<00:00,  1.96it/s]\n",
      "Export report to file: 100%|██████████| 1/1 [00:00<00:00, 256.86it/s]\n",
      "Summarize dataset: 100%|██████████| 21/21 [00:17<00:00,  1.17it/s, Completed]                 \n",
      "Generate report structure: 100%|██████████| 1/1 [00:00<00:00,  1.05it/s]\n",
      "Render HTML: 100%|██████████| 1/1 [00:00<00:00,  3.32it/s]\n",
      "Export report to file: 100%|██████████| 1/1 [00:00<00:00, 598.93it/s]\n"
     ]
    }
   ],
   "source": [
    "# Anime 資料檔 EDA\n",
    "anime_report = ProfileReport(anime, title=\"Anime Dataset Report\", explorative=True)\n",
    "anime_report.to_file(os.path.join(DATA_DIR, \"anime_eda_report.html\"))\n",
    "\n",
    "# Ratings 資料檔 EDA\n",
    "ratings_report = ProfileReport(ratings, title=\"Ratings Dataset Report\", explorative=True)\n",
    "ratings_report.to_file(os.path.join(DATA_DIR, \"ratings_eda_report.html\"))"
   ]
  },
  {
   "cell_type": "code",
   "execution_count": 3,
   "id": "651e6441-6726-4e64-9dc4-6b08dd6835b7",
   "metadata": {
    "scrolled": true
   },
   "outputs": [
    {
     "name": "stdout",
     "output_type": "stream",
     "text": [
      "(7813737, 3) -> (6337241, 3)\n",
      "anime_id      0\n",
      "name          0\n",
      "genre        62\n",
      "type         25\n",
      "episodes      0\n",
      "rating      230\n",
      "members       0\n",
      "dtype: int64\n"
     ]
    }
   ],
   "source": [
    "# 移除無效評分\n",
    "ratings_clean = ratings[ratings[\"rating\"] != -1]\n",
    "\n",
    "# 填補缺失值\n",
    "anime_clean = anime.fillna({\n",
    "    \"genre\": \"Unknown\",\n",
    "    \"type\": \"Unknown\"\n",
    "})\n",
    "\n",
    "# 確認結果\n",
    "print(ratings.shape, \"->\", ratings_clean.shape)\n",
    "print(anime.isnull().sum())"
   ]
  },
  {
   "cell_type": "code",
   "execution_count": 4,
   "id": "6397b02e-2605-4653-8182-aad639cfcb8b",
   "metadata": {},
   "outputs": [],
   "source": [
    "anime_clean.to_csv(os.path.join(DATA_DIR, \"anime_clean.csv\"), index=False)\n",
    "ratings_clean.to_csv(os.path.join(DATA_DIR, \"ratings_clean.csv\"), index=False)"
   ]
  }
 ],
 "metadata": {
  "kernelspec": {
   "display_name": "Python 3 (ipykernel)",
   "language": "python",
   "name": "python3"
  },
  "language_info": {
   "codemirror_mode": {
    "name": "ipython",
    "version": 3
   },
   "file_extension": ".py",
   "mimetype": "text/x-python",
   "name": "python",
   "nbconvert_exporter": "python",
   "pygments_lexer": "ipython3",
   "version": "3.10.18"
  }
 },
 "nbformat": 4,
 "nbformat_minor": 5
}
