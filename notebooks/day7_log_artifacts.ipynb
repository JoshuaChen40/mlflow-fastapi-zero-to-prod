{
 "cells": [
  {
   "cell_type": "code",
   "execution_count": 8,
   "id": "bf1a5320-da72-4808-b697-7ed2ab534960",
   "metadata": {},
   "outputs": [
    {
     "name": "stdout",
     "output_type": "stream",
     "text": [
      "Anime: (12294, 7)\n",
      "Train: (633755, 3)\n",
      "Test: (316831, 3)\n"
     ]
    }
   ],
   "source": [
    "import os\n",
    "import pandas as pd\n",
    "import numpy as np\n",
    "import mlflow\n",
    "from sklearn.feature_extraction.text import TfidfVectorizer\n",
    "from sklearn.metrics.pairwise import linear_kernel\n",
    "\n",
    "DATA_DIR = \"/usr/mlflow/data\"\n",
    "\n",
    "anime = pd.read_csv(os.path.join(DATA_DIR, \"anime_clean.csv\"))\n",
    "ratings_train = pd.read_csv(os.path.join(DATA_DIR, \"ratings_train.csv\"))\n",
    "ratings_test = pd.read_csv(os.path.join(DATA_DIR, \"ratings_test.csv\"))\n",
    "\n",
    "print(\"Anime:\", anime.shape)\n",
    "print(\"Train:\", ratings_train.shape)\n",
    "print(\"Test:\", ratings_test.shape)\n"
   ]
  },
  {
   "cell_type": "code",
   "execution_count": 9,
   "id": "0d971a81-d5c3-48b9-9a29-19929b84b851",
   "metadata": {},
   "outputs": [],
   "source": [
    "# 建立文字描述欄位\n",
    "anime[\"text\"] = anime[\"genre\"].fillna(\"\") + \" \" + anime[\"type\"].fillna(\"\")\n",
    "\n",
    "# TF-IDF 向量化\n",
    "tfidf = TfidfVectorizer(stop_words=\"english\")\n",
    "tfidf_matrix = tfidf.fit_transform(anime[\"text\"])\n",
    "\n",
    "# 動畫相似度矩陣\n",
    "cosine_sim = linear_kernel(tfidf_matrix, tfidf_matrix)\n",
    "\n",
    "# anime_id ↔ index 對照表\n",
    "indices = pd.Series(anime.index, index=anime[\"anime_id\"]).drop_duplicates()\n"
   ]
  },
  {
   "cell_type": "code",
   "execution_count": 10,
   "id": "3937c8cd-cd93-4969-bc15-a1287b729ece",
   "metadata": {},
   "outputs": [],
   "source": [
    "def recommend_item_based(user_id, top_n=10):\n",
    "    user_ratings = ratings_train[ratings_train[\"user_id\"] == user_id]\n",
    "    liked = user_ratings[user_ratings[\"rating\"] > 7][\"anime_id\"].tolist()\n",
    "    \n",
    "    if len(liked) == 0:\n",
    "        return pd.DataFrame(columns=[\"name\", \"genre\"])\n",
    "    \n",
    "    sim_scores = np.zeros(cosine_sim.shape[0])\n",
    "    for anime_id in liked:\n",
    "        if anime_id in indices:\n",
    "            idx = indices[anime_id]\n",
    "            sim_scores += cosine_sim[idx]\n",
    "    \n",
    "    sim_scores = sim_scores / len(liked)\n",
    "    sim_indices = sim_scores.argsort()[::-1]\n",
    "    \n",
    "    seen = set(user_ratings[\"anime_id\"])\n",
    "    rec_ids = [anime.loc[i, \"anime_id\"] for i in sim_indices if anime.loc[i, \"anime_id\"] not in seen]\n",
    "    rec_ids = rec_ids[:top_n]\n",
    "    \n",
    "    return anime[anime[\"anime_id\"].isin(rec_ids)][[\"name\", \"genre\"]]\n"
   ]
  },
  {
   "cell_type": "code",
   "execution_count": 11,
   "id": "645ae1ac-2f65-4422-a5db-41ab8f55ccf3",
   "metadata": {
    "scrolled": true
   },
   "outputs": [
    {
     "name": "stdout",
     "output_type": "stream",
     "text": [
      "   user_id                                      liked_in_test  \\\n",
      "0    43880                                           [Naruto]   \n",
      "1    12909  [Binbougami ga!, Dungeon ni Deai wo Motomeru n...   \n",
      "2    69001  [Higashi no Eden Movie I: The King of Eden, K,...   \n",
      "3    53456  [Code Geass: Hangyaku no Lelouch R2, Tiger &am...   \n",
      "4    60002  [Shijou Saikyou no Deshi Kenichi, Clannad: Aft...   \n",
      "\n",
      "                                         recommended  \n",
      "0  [Gungrave, Guilty Crown, Kurau Phantom Memory,...  \n",
      "1  [Wolf&#039;s Rain, Bungou Stray Dogs, GetBacke...  \n",
      "2  [High School DxD BorN, Trinity Seven, Omamori ...  \n",
      "3  [xxxHOLiC Kei, Durarara!!x2 Ketsu, Durarara!!x...  \n",
      "4  [Tsubasa: Shunraiki, Shakugan no Shana II (Sec...  \n"
     ]
    }
   ],
   "source": [
    "sample_users = ratings_test[\"user_id\"].drop_duplicates().sample(5, random_state=42)\n",
    "\n",
    "results = []\n",
    "for u in sample_users:\n",
    "    liked = ratings_test[(ratings_test[\"user_id\"] == u) & (ratings_test[\"rating\"] > 7)]\n",
    "    liked_list = anime[anime[\"anime_id\"].isin(liked[\"anime_id\"])][\"name\"].tolist()\n",
    "    \n",
    "    recs = recommend_item_based(u, top_n=10)[\"name\"].tolist()\n",
    "    \n",
    "    results.append({\n",
    "        \"user_id\": u,\n",
    "        \"liked_in_test\": liked_list,\n",
    "        \"recommended\": recs\n",
    "    })\n",
    "\n",
    "df_results = pd.DataFrame(results)\n",
    "print(df_results.head())\n"
   ]
  },
  {
   "cell_type": "code",
   "execution_count": 12,
   "id": "12365e76-50ee-4afb-86cb-3423bb32c239",
   "metadata": {},
   "outputs": [],
   "source": [
    "artifact_path = os.path.join(DATA_DIR, \"day7_recommendations.csv\")\n",
    "df_results.to_csv(artifact_path, index=False)"
   ]
  },
  {
   "cell_type": "code",
   "execution_count": 15,
   "id": "eb30ba1b-96c6-4ce9-9104-1c0ce903b6a9",
   "metadata": {},
   "outputs": [
    {
     "name": "stderr",
     "output_type": "stream",
     "text": [
      "2025/09/21 06:22:18 INFO mlflow.tracking.fluent: Experiment with name 'anime-recommender-artifacts' does not exist. Creating a new experiment.\n"
     ]
    },
    {
     "name": "stdout",
     "output_type": "stream",
     "text": [
      "Artifact URI: mlflow-artifacts:/5/8b8b4860ecfd4ef88b18077c5a5f0906/artifacts\n"
     ]
    }
   ],
   "source": [
    "import os, mlflow\n",
    "mlflow.set_tracking_uri(os.getenv(\"MLFLOW_TRACKING_URI\", \"http://mlflow:5000\"))\n",
    "\n",
    "mlflow.set_experiment(\"anime-recommender-artifacts\")\n",
    "\n",
    "with mlflow.start_run(run_name=\"day7_item_based_artifact\"):\n",
    "    mlflow.log_param(\"model_type\", \"item_based_tfidf\")\n",
    "    mlflow.log_param(\"top_n\", 10)\n",
    "    \n",
    "    # 假設 Precision/Recall 是 Day 6 算出來的\n",
    "    mlflow.log_metric(\"precision_at_10\", 0.0013)\n",
    "    mlflow.log_metric(\"recall_at_10\", 0.0015)\n",
    "    \n",
    "    # 上傳推薦清單 CSV\n",
    "    mlflow.log_artifact(artifact_path, artifact_path=\"recommendations\")\n",
    "    print(\"Artifact URI:\", mlflow.get_artifact_uri())\n"
   ]
  }
 ],
 "metadata": {
  "kernelspec": {
   "display_name": "Python 3 (ipykernel)",
   "language": "python",
   "name": "python3"
  },
  "language_info": {
   "codemirror_mode": {
    "name": "ipython",
    "version": 3
   },
   "file_extension": ".py",
   "mimetype": "text/x-python",
   "name": "python",
   "nbconvert_exporter": "python",
   "pygments_lexer": "ipython3",
   "version": "3.10.18"
  }
 },
 "nbformat": 4,
 "nbformat_minor": 5
}
