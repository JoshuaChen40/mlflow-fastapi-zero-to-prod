{
 "cells": [
  {
   "cell_type": "code",
   "execution_count": 4,
   "id": "22e09be2-af3e-457e-b9e2-1e424691bc12",
   "metadata": {},
   "outputs": [
    {
     "name": "stderr",
     "output_type": "stream",
     "text": [
      "Downloading artifacts: 100%|██████████| 1/1 [00:00<00:00, 812.38it/s] \n",
      "/usr/local/lib/python3.10/site-packages/_distutils_hack/__init__.py:18: UserWarning: Distutils was imported before Setuptools, but importing Setuptools also replaces the `distutils` module in `sys.modules`. This may lead to undesirable behaviors or errors. To avoid these issues, avoid using distutils directly, ensure that setuptools is installed in the traditional way (e.g. not an editable install), and/or make sure that setuptools is always imported before distutils.\n",
      "  warnings.warn(\n",
      "/usr/local/lib/python3.10/site-packages/_distutils_hack/__init__.py:33: UserWarning: Setuptools is replacing distutils.\n",
      "  warnings.warn(\"Setuptools is replacing distutils.\")\n",
      "Registered model 'AnimeRecsysTFIDF' already exists. Creating a new version of this model...\n",
      "2025/10/08 16:11:32 INFO mlflow.store.model_registry.abstract_store: Waiting up to 300 seconds for model version to finish creation. Model name: AnimeRecsysTFIDF, version 3\n",
      "Created version '3' of model 'AnimeRecsysTFIDF'.\n",
      "/tmp/ipykernel_28/3426208346.py:57: FutureWarning: ``mlflow.tracking.client.MlflowClient.get_latest_versions`` is deprecated since 2.9.0. Model registry stages will be removed in a future major release. To learn more about the deprecation of model registry stages, see our migration guide here: https://mlflow.org/docs/latest/model-registry.html#migrating-from-stages\n",
      "  latest = client.get_latest_versions(\"AnimeRecsysTFIDF\")[0]\n",
      "/tmp/ipykernel_28/3426208346.py:58: FutureWarning: ``mlflow.tracking.client.MlflowClient.transition_model_version_stage`` is deprecated since 2.9.0. Model registry stages will be removed in a future major release. To learn more about the deprecation of model registry stages, see our migration guide here: https://mlflow.org/docs/latest/model-registry.html#migrating-from-stages\n",
      "  client.transition_model_version_stage(\"AnimeRecsysTFIDF\", latest.version, stage=\"Staging\")\n"
     ]
    },
    {
     "name": "stdout",
     "output_type": "stream",
     "text": [
      "✅ AnimeRecsysTFIDF 模型重新註冊完成，並附帶 anime.csv！\n",
      "✅ 模型版本 v2 已切換至 Staging。\n"
     ]
    }
   ],
   "source": [
    "import mlflow\n",
    "import mlflow.pyfunc\n",
    "import pandas as pd\n",
    "from sklearn.feature_extraction.text import TfidfVectorizer\n",
    "from sklearn.metrics.pairwise import cosine_similarity\n",
    "import os\n",
    "\n",
    "# === 連線到 MLflow Server ===\n",
    "mlflow.set_tracking_uri(\"http://mlflow:5000\")\n",
    "mlflow.set_experiment(\"anime-recsys-tfidf\")\n",
    "\n",
    "# === 載入資料 ===\n",
    "DATA_DIR = \"/usr/mlflow/data\"\n",
    "anime = pd.read_csv(os.path.join(DATA_DIR, \"anime_clean.csv\"))\n",
    "\n",
    "# 儲存一份到 artifacts 資料夾\n",
    "ARTIFACT_DIR = \"./artifacts\"\n",
    "os.makedirs(ARTIFACT_DIR, exist_ok=True)\n",
    "anime_path = os.path.join(ARTIFACT_DIR, \"anime.csv\")\n",
    "anime.to_csv(anime_path, index=False)\n",
    "\n",
    "# === 定義 TF-IDF 模型 ===\n",
    "class TFIDFRecommender(mlflow.pyfunc.PythonModel):\n",
    "    def load_context(self, context):\n",
    "        import pandas as pd\n",
    "        from sklearn.feature_extraction.text import TfidfVectorizer\n",
    "        from sklearn.metrics.pairwise import cosine_similarity\n",
    "\n",
    "        anime_path = context.artifacts[\"anime\"]\n",
    "        self.anime = pd.read_csv(anime_path)\n",
    "        self.vectorizer = TfidfVectorizer(stop_words=\"english\", max_features=3000)\n",
    "        self.tfidf_matrix = self.vectorizer.fit_transform(self.anime[\"genre\"].fillna(\"\"))\n",
    "        self.anime_titles = self.anime[\"name\"].fillna(\"\").tolist()\n",
    "\n",
    "    def predict(self, context, model_input):\n",
    "        query = \" \".join(model_input[0].tolist())\n",
    "        q_vec = self.vectorizer.transform([query])\n",
    "        sims = cosine_similarity(q_vec, self.tfidf_matrix).flatten()\n",
    "        top_idx = sims.argsort()[-10:][::-1]\n",
    "        recommendations = [self.anime_titles[i] for i in top_idx]\n",
    "        return [recommendations]\n",
    "\n",
    "# === 註冊模型 ===\n",
    "with mlflow.start_run(run_name=\"tfidf-with-artifact\") as run:\n",
    "    mlflow.pyfunc.log_model(\n",
    "        artifact_path=\"model\",\n",
    "        python_model=TFIDFRecommender(),\n",
    "        artifacts={\"anime\": anime_path},\n",
    "        registered_model_name=\"AnimeRecsysTFIDF\"\n",
    "    )\n",
    "\n",
    "print(\"✅ AnimeRecsysTFIDF 模型重新註冊完成，並附帶 anime.csv！\")\n",
    "\n",
    "# === 可選：自動切換 Stage ===\n",
    "from mlflow.tracking import MlflowClient\n",
    "client = MlflowClient()\n",
    "latest = client.get_latest_versions(\"AnimeRecsysTFIDF\")[0]\n",
    "client.transition_model_version_stage(\"AnimeRecsysTFIDF\", latest.version, stage=\"Staging\")\n",
    "\n",
    "print(f\"✅ 模型版本 v{latest.version} 已切換至 Staging。\")\n"
   ]
  }
 ],
 "metadata": {
  "kernelspec": {
   "display_name": "Python 3 (ipykernel)",
   "language": "python",
   "name": "python3"
  },
  "language_info": {
   "codemirror_mode": {
    "name": "ipython",
    "version": 3
   },
   "file_extension": ".py",
   "mimetype": "text/x-python",
   "name": "python",
   "nbconvert_exporter": "python",
   "pygments_lexer": "ipython3",
   "version": "3.10.18"
  }
 },
 "nbformat": 4,
 "nbformat_minor": 5
}
