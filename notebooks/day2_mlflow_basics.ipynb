{
 "cells": [
  {
   "cell_type": "code",
   "execution_count": 3,
   "id": "59dc0d70-6898-407b-9d16-5c8ed7ca376d",
   "metadata": {},
   "outputs": [
    {
     "name": "stdout",
     "output_type": "stream",
     "text": [
      "Tracking URI: http://mlflow:5000 ExpID: 1\n"
     ]
    }
   ],
   "source": [
    "import os, mlflow\n",
    "mlflow.set_tracking_uri(os.getenv(\"MLFLOW_TRACKING_URI\", \"http://mlflow:5000\"))\n",
    "exp = mlflow.set_experiment(\"anime-recsys\")\n",
    "print(\"Tracking URI:\", mlflow.get_tracking_uri(), \"ExpID:\", exp.experiment_id)"
   ]
  },
  {
   "cell_type": "code",
   "execution_count": 4,
   "id": "dfde9cb0-31e4-47d8-8347-3b9312f97304",
   "metadata": {
    "scrolled": true
   },
   "outputs": [],
   "source": [
    "import time\n",
    "from pathlib import Path\n",
    "\n",
    "with mlflow.start_run(run_name=\"day2-sanity\"):\n",
    "    mlflow.log_params({\"algo\":\"popular\",\"top_k\":10})\n",
    "    for step in range(1,6):\n",
    "        mlflow.log_metric(\"precision_at_k\", 0.20+step*0.02, step=step)\n",
    "        time.sleep(0.05)\n",
    "\n",
    "    Path(\"artifacts\").mkdir(exist_ok=True)\n",
    "    Path(\"artifacts/README.txt\").write_text(\"Day2 sanity run for MLflow.\")\n",
    "    mlflow.log_artifact(\"artifacts/README.txt\")"
   ]
  },
  {
   "cell_type": "code",
   "execution_count": 6,
   "id": "5bb691c9-1d3a-4cab-8cc8-a36126664f38",
   "metadata": {},
   "outputs": [],
   "source": [
    "import pandas as pd\n",
    "import mlflow\n",
    "import mlflow.pyfunc as pyfunc\n",
    "from pathlib import Path\n",
    "from mlflow.models.signature import infer_signature\n",
    "\n",
    "POPULAR = [\"Naruto\",\"One Piece\",\"Bleach\",\"Death Note\",\"Your Name\",\"Attack on Titan\"]\n",
    "\n",
    "# 準備 artifact\n",
    "Path(\"artifacts\").mkdir(exist_ok=True)\n",
    "Path(\"artifacts/popular.txt\").write_text(\"\\n\".join(POPULAR), encoding=\"utf-8\")\n",
    "\n",
    "class PopularRecs(pyfunc.PythonModel):\n",
    "    def load_context(self, context):\n",
    "        \"\"\"\n",
    "        當 MLflow 載入模型時，會先執行這個方法。\n",
    "        這裡的任務是把訓練時存好的 artifact (人氣榜清單) 載入到記憶體。\n",
    "        context.artifacts 是 MLflow 在載入模型時，幫你存放的檔案清單\n",
    "        \"\"\"\n",
    "        with open(context.artifacts[\"popular_list\"], encoding=\"utf-8\") as f:\n",
    "            # 讀取每一行，去除換行符號與空白行\n",
    "            self.popular_list = [line.strip() for line in f if line.strip()]\n",
    "\n",
    "    def predict(self, context, model_input: pd.DataFrame):\n",
    "        \"\"\"\n",
    "        推論邏輯：\n",
    "        1. 取得使用者已看過的動畫 (liked_titles)\n",
    "        2. 把多個清單展平成一個大清單\n",
    "        3. 轉成集合，避免重複\n",
    "        4. 從人氣榜裡排除已看過的動畫\n",
    "        5. 回傳前 k 個推薦結果\n",
    "        \"\"\"\n",
    "\n",
    "        # 假設 liked_titles = [[\"Naruto\", \"Bleach\"], [\"One Piece\"]]\n",
    "        liked_titles = model_input[\"liked_titles\"].tolist()\n",
    "\n",
    "        # 用 list comprehension 展平：[\"Naruto\", \"Bleach\", \"One Piece\"]\n",
    "        all_watched = []\n",
    "        for sublist in liked_titles:\n",
    "            all_watched.extend(sublist)  # 把每個小清單接到大清單\n",
    "        watched_set = set(all_watched)\n",
    "\n",
    "        # 轉成集合 (去重)\n",
    "        watched_set = set(all_watched)\n",
    "\n",
    "        # 從輸入資料中取得 k，如果沒給就用 5\n",
    "        k = model_input.get(\"k\", pd.Series([5])).iloc[0]\n",
    "\n",
    "        # 推薦邏輯：從人氣榜裡排除已看過的動畫，取前 k 個\n",
    "        recommendations = [\n",
    "            title for title in self.popular_list if title not in watched_set\n",
    "        ][:int(k)]\n",
    "\n",
    "        # 回傳 DataFrame，保持與 MLflow 定義一致\n",
    "        return pd.DataFrame({\"recommendations\": [recommendations]})"
   ]
  },
  {
   "cell_type": "code",
   "execution_count": 7,
   "id": "ebbedb49-506e-4240-979f-bf4cd3dbb449",
   "metadata": {
    "scrolled": true
   },
   "outputs": [
    {
     "name": "stderr",
     "output_type": "stream",
     "text": [
      "/usr/local/lib/python3.10/site-packages/mlflow/types/utils.py:406: UserWarning: Hint: Inferred schema contains integer column(s). Integer columns in Python cannot represent missing values. If your input data contains missing values at inference time, it will be encoded as floats and will cause a schema enforcement error. The best way to avoid this problem is to infer the model schema based on a realistic data sample (training dataset) that includes missing values. Alternatively, you can declare integer columns as doubles (float64) whenever these columns may have missing values. See `Handling Integers With Missing Values <https://www.mlflow.org/docs/latest/models.html#handling-integers-with-missing-values>`_ for more details.\n",
      "  warnings.warn(\n",
      "/usr/local/lib/python3.10/site-packages/tqdm/auto.py:21: TqdmWarning: IProgress not found. Please update jupyter and ipywidgets. See https://ipywidgets.readthedocs.io/en/stable/user_install.html\n",
      "  from .autonotebook import tqdm as notebook_tqdm\n",
      "Downloading artifacts: 100%|██████████| 1/1 [00:00<00:00, 859.49it/s]  \n"
     ]
    },
    {
     "name": "stdout",
     "output_type": "stream",
     "text": [
      "Run ID: 54135eaf5bf548289a6d0a899d9dae2c\n"
     ]
    }
   ],
   "source": [
    "input_example = pd.DataFrame({\"liked_titles\":[[\"Naruto\",\"Bleach\"]], \"k\":[5]})\n",
    "output_example = pd.DataFrame({\"recommendations\":[[\"One Piece\",\"Death Note\",\"Your Name\",\"Attack on Titan\"]]})\n",
    "signature = infer_signature(input_example, output_example)\n",
    "\n",
    "with mlflow.start_run(run_name=\"popular-pyfunc\") as run:\n",
    "    mlflow.log_params({\"algo\":\"popular\",\"top_k_default\":5})\n",
    "    mlflow.pyfunc.log_model(\n",
    "        artifact_path=\"model\",\n",
    "        python_model=PopularRecs(),\n",
    "        artifacts={\"popular_list\":\"artifacts/popular.txt\"},\n",
    "        input_example=input_example,\n",
    "        signature=signature\n",
    "    )\n",
    "    run_id = run.info.run_id\n",
    "    print(\"Run ID:\", run_id)"
   ]
  },
  {
   "cell_type": "code",
   "execution_count": 8,
   "id": "0bc1d368-5c30-47f4-a5a1-afba7a35518a",
   "metadata": {},
   "outputs": [
    {
     "name": "stderr",
     "output_type": "stream",
     "text": [
      "Successfully registered model 'anime-recommender'.\n",
      "2025/09/15 07:46:00 INFO mlflow.store.model_registry.abstract_store: Waiting up to 300 seconds for model version to finish creation. Model name: anime-recommender, version 1\n"
     ]
    },
    {
     "name": "stdout",
     "output_type": "stream",
     "text": [
      "Registered anime-recommender v1 → Staging\n"
     ]
    },
    {
     "name": "stderr",
     "output_type": "stream",
     "text": [
      "Created version '1' of model 'anime-recommender'.\n",
      "/tmp/ipykernel_21/3769498350.py:9: FutureWarning: ``mlflow.tracking.client.MlflowClient.transition_model_version_stage`` is deprecated since 2.9.0. Model registry stages will be removed in a future major release. To learn more about the deprecation of model registry stages, see our migration guide here: https://mlflow.org/docs/latest/model-registry.html#migrating-from-stages\n",
      "  client.transition_model_version_stage(\n"
     ]
    }
   ],
   "source": [
    "from mlflow.tracking import MlflowClient\n",
    "import mlflow\n",
    "\n",
    "client = MlflowClient()\n",
    "model_uri = f\"runs:/{run_id}/model\"\n",
    "name = \"anime-recommender\"\n",
    "\n",
    "registered = mlflow.register_model(model_uri=model_uri, name=name)\n",
    "client.transition_model_version_stage(\n",
    "    name=name, version=registered.version, stage=\"Staging\", archive_existing_versions=False\n",
    ")\n",
    "print(f\"Registered {name} v{registered.version} → Staging\")"
   ]
  },
  {
   "cell_type": "code",
   "execution_count": 9,
   "id": "a0e82d20-a1f2-40bb-a89e-c7d38e3dbecb",
   "metadata": {},
   "outputs": [
    {
     "name": "stderr",
     "output_type": "stream",
     "text": [
      "/usr/local/lib/python3.10/site-packages/mlflow/store/artifact/utils/models.py:32: FutureWarning: ``mlflow.tracking.client.MlflowClient.get_latest_versions`` is deprecated since 2.9.0. Model registry stages will be removed in a future major release. To learn more about the deprecation of model registry stages, see our migration guide here: https://mlflow.org/docs/latest/model-registry.html#migrating-from-stages\n",
      "  latest = client.get_latest_versions(name, None if stage is None else [stage])\n"
     ]
    },
    {
     "data": {
      "text/html": [
       "<div>\n",
       "<style scoped>\n",
       "    .dataframe tbody tr th:only-of-type {\n",
       "        vertical-align: middle;\n",
       "    }\n",
       "\n",
       "    .dataframe tbody tr th {\n",
       "        vertical-align: top;\n",
       "    }\n",
       "\n",
       "    .dataframe thead th {\n",
       "        text-align: right;\n",
       "    }\n",
       "</style>\n",
       "<table border=\"1\" class=\"dataframe\">\n",
       "  <thead>\n",
       "    <tr style=\"text-align: right;\">\n",
       "      <th></th>\n",
       "      <th>recommendations</th>\n",
       "    </tr>\n",
       "  </thead>\n",
       "  <tbody>\n",
       "    <tr>\n",
       "      <th>0</th>\n",
       "      <td>[One Piece, Bleach, Death Note]</td>\n",
       "    </tr>\n",
       "  </tbody>\n",
       "</table>\n",
       "</div>"
      ],
      "text/plain": [
       "                   recommendations\n",
       "0  [One Piece, Bleach, Death Note]"
      ]
     },
     "execution_count": 9,
     "metadata": {},
     "output_type": "execute_result"
    }
   ],
   "source": [
    "loaded = mlflow.pyfunc.load_model(\"models:/anime-recommender/Staging\")\n",
    "pred = loaded.predict(pd.DataFrame({\"liked_titles\":[[\"Naruto\",\"Your Name\"]], \"k\":[3]}))\n",
    "pred"
   ]
  }
 ],
 "metadata": {
  "kernelspec": {
   "display_name": "Python 3 (ipykernel)",
   "language": "python",
   "name": "python3"
  },
  "language_info": {
   "codemirror_mode": {
    "name": "ipython",
    "version": 3
   },
   "file_extension": ".py",
   "mimetype": "text/x-python",
   "name": "python",
   "nbconvert_exporter": "python",
   "pygments_lexer": "ipython3",
   "version": "3.10.18"
  }
 },
 "nbformat": 4,
 "nbformat_minor": 5
}
