{
 "cells": [
  {
   "cell_type": "code",
   "execution_count": 1,
   "id": "31e3c56a-7aed-458c-895b-5f04e9cf5cc1",
   "metadata": {
    "scrolled": true
   },
   "outputs": [
    {
     "name": "stderr",
     "output_type": "stream",
     "text": [
      "2025/09/24 16:20:15 INFO mlflow.tracking.fluent: Experiment with name 'anime-recsys-serve' does not exist. Creating a new experiment.\n"
     ]
    },
    {
     "name": "stdout",
     "output_type": "stream",
     "text": [
      "Anime: (12294, 7)\n",
      "Train: (633755, 3)\n",
      "Top 10 Anime: ['Dead Girl Trailer', 'Kirin Monoshiri Yakata', 'Marginal Prince: Gekkeiju no Ouji-tachi - Tokyo Merry-Go-Round', 'Hontou ni Atta', 'Zeonic Toyota Special Movie', 'Ketsuinu', 'Shusaku Liberty', 'Uchuu no Kishi Tekkaman Blade OVA: Twin Blood', 'Mobile Suit Gundam Unicorn: One of Seventy Two', 'Crayon Shin-chan Movie 17: Otakebe! Kasukabe Yasei Oukoku']\n"
     ]
    }
   ],
   "source": [
    "import os\n",
    "import pandas as pd\n",
    "import mlflow\n",
    "import mlflow.pyfunc\n",
    "from mlflow.tracking import MlflowClient\n",
    "\n",
    "# 設定 MLflow Tracking\n",
    "mlflow.set_tracking_uri(\"http://mlflow:5000\")\n",
    "mlflow.set_experiment(\"anime-recsys-serve\")\n",
    "\n",
    "# 資料路徑\n",
    "DATA_DIR = \"/usr/mlflow/data\"\n",
    "anime = pd.read_csv(os.path.join(DATA_DIR, \"anime_clean.csv\"))\n",
    "ratings_train = pd.read_csv(os.path.join(DATA_DIR, \"ratings_train.csv\"))\n",
    "\n",
    "print(\"Anime:\", anime.shape)\n",
    "print(\"Train:\", ratings_train.shape)\n",
    "\n",
    "# 訓練 Popular Top-10 模型\n",
    "top10 = (\n",
    "    ratings_train.groupby(\"anime_id\")[\"rating\"]\n",
    "    .mean()\n",
    "    .reset_index()\n",
    "    .merge(anime[[\"anime_id\", \"name\"]], on=\"anime_id\")\n",
    "    .sort_values(\"rating\", ascending=False)\n",
    "    .head(10)\n",
    ")\n",
    "\n",
    "top10_ids = top10[\"anime_id\"].tolist()\n",
    "top10_names = top10[\"name\"].tolist()\n",
    "print(\"Top 10 Anime:\", top10_names)\n",
    "\n",
    "# 定義 PopularTop10 模型\n",
    "class PopularTop10(mlflow.pyfunc.PythonModel):\n",
    "    def __init__(self, anime_df, top10_ids):\n",
    "        self.anime = anime_df\n",
    "        self.top10_ids = top10_ids\n",
    "\n",
    "    def predict(self, context, model_input):\n",
    "        # 輸入是動畫名稱，但 PopularTop10 不看輸入，永遠回傳 Top10\n",
    "        return [self.anime[self.anime[\"anime_id\"].isin(self.top10_ids)][\"name\"].tolist()]"
   ]
  },
  {
   "cell_type": "code",
   "execution_count": 2,
   "id": "75a6ffba-df9d-42ba-91a9-e6e41d0cc5e3",
   "metadata": {},
   "outputs": [
    {
     "name": "stderr",
     "output_type": "stream",
     "text": [
      "Registered model 'AnimeRecsysModel' already exists. Creating a new version of this model...\n",
      "2025/09/24 16:20:34 INFO mlflow.store.model_registry.abstract_store: Waiting up to 300 seconds for model version to finish creation. Model name: AnimeRecsysModel, version 5\n"
     ]
    },
    {
     "name": "stdout",
     "output_type": "stream",
     "text": [
      "Run ID: ad990ec59fba4f33980ef79c73713241\n",
      "Version: 4 Stage: Staging\n",
      "Version: 5 Stage: None\n"
     ]
    },
    {
     "name": "stderr",
     "output_type": "stream",
     "text": [
      "Created version '5' of model 'AnimeRecsysModel'.\n",
      "/tmp/ipykernel_40/1325722660.py:17: FutureWarning: ``mlflow.tracking.client.MlflowClient.get_latest_versions`` is deprecated since 2.9.0. Model registry stages will be removed in a future major release. To learn more about the deprecation of model registry stages, see our migration guide here: https://mlflow.org/docs/latest/model-registry.html#migrating-from-stages\n",
      "  latest_versions = client.get_latest_versions(\"AnimeRecsysModel\")\n"
     ]
    }
   ],
   "source": [
    "client = MlflowClient()\n",
    "\n",
    "with mlflow.start_run(run_name=\"popular-top10-registry\") as run:\n",
    "    mlflow.log_param(\"model_type\", \"PopularTop10\")\n",
    "\n",
    "    # 註冊模型到 Registry\n",
    "    result = mlflow.pyfunc.log_model(\n",
    "        artifact_path=\"model\",\n",
    "        python_model=PopularTop10(anime, top10_ids),\n",
    "        registered_model_name=\"AnimeRecsysModel\"\n",
    "    )\n",
    "\n",
    "    run_id = run.info.run_id\n",
    "    print(\"Run ID:\", run_id)\n",
    "\n",
    "# 找到剛剛註冊的最新版本\n",
    "latest_versions = client.get_latest_versions(\"AnimeRecsysModel\")\n",
    "for v in latest_versions:\n",
    "    print(\"Version:\", v.version, \"Stage:\", v.current_stage)\n",
    "    new_version = v.version  # 取最新的 version"
   ]
  },
  {
   "cell_type": "code",
   "execution_count": 3,
   "id": "3cad50b4-d3e1-45bc-b4dc-d27daf54e3f2",
   "metadata": {},
   "outputs": [
    {
     "name": "stderr",
     "output_type": "stream",
     "text": [
      "/tmp/ipykernel_40/355637712.py:2: FutureWarning: ``mlflow.tracking.client.MlflowClient.transition_model_version_stage`` is deprecated since 2.9.0. Model registry stages will be removed in a future major release. To learn more about the deprecation of model registry stages, see our migration guide here: https://mlflow.org/docs/latest/model-registry.html#migrating-from-stages\n",
      "  client.transition_model_version_stage(\n"
     ]
    },
    {
     "name": "stdout",
     "output_type": "stream",
     "text": [
      "✅ Model AnimeRecsysModel v5 已移到 Staging\n"
     ]
    }
   ],
   "source": [
    "# 把最新版本移到 Staging\n",
    "client.transition_model_version_stage(\n",
    "    name=\"AnimeRecsysModel\",\n",
    "    version=new_version,\n",
    "    stage=\"Staging\",\n",
    "    archive_existing_versions=True\n",
    ")\n",
    "\n",
    "print(f\"✅ Model AnimeRecsysModel v{new_version} 已移到 Staging\")"
   ]
  }
 ],
 "metadata": {
  "kernelspec": {
   "display_name": "Python 3 (ipykernel)",
   "language": "python",
   "name": "python3"
  },
  "language_info": {
   "codemirror_mode": {
    "name": "ipython",
    "version": 3
   },
   "file_extension": ".py",
   "mimetype": "text/x-python",
   "name": "python",
   "nbconvert_exporter": "python",
   "pygments_lexer": "ipython3",
   "version": "3.10.18"
  }
 },
 "nbformat": 4,
 "nbformat_minor": 5
}
