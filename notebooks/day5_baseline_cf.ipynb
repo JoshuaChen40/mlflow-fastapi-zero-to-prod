{
 "cells": [
  {
   "cell_type": "code",
   "execution_count": 1,
   "id": "ed18f766-55c6-489b-98ec-b440198455c6",
   "metadata": {},
   "outputs": [
    {
     "name": "stdout",
     "output_type": "stream",
     "text": [
      "Anime: (12294, 7)\n",
      "Ratings: (6337241, 3)\n"
     ]
    }
   ],
   "source": [
    "import os\n",
    "import pandas as pd\n",
    "import numpy as np\n",
    "from sklearn.model_selection import train_test_split\n",
    "from sklearn.neighbors import NearestNeighbors\n",
    "import mlflow\n",
    "\n",
    "DATA_DIR = \"/usr/mlflow/data\"\n",
    "\n",
    "anime = pd.read_csv(os.path.join(DATA_DIR, \"anime_clean.csv\"))\n",
    "ratings = pd.read_csv(os.path.join(DATA_DIR, \"ratings_clean.csv\"))\n",
    "\n",
    "print(\"Anime:\", anime.shape)\n",
    "print(\"Ratings:\", ratings.shape)"
   ]
  },
  {
   "cell_type": "code",
   "execution_count": 2,
   "id": "de52f1af-6504-4c5f-a149-dc55a80c7efb",
   "metadata": {},
   "outputs": [
    {
     "name": "stdout",
     "output_type": "stream",
     "text": [
      "Train: (633755, 3)\n",
      "Test: (316831, 3)\n",
      "Back-up: (5386655, 3)\n"
     ]
    }
   ],
   "source": [
    "# 先抽出 15% (train+test)，剩下 85% 存為 back_up\n",
    "ratings_sample, ratings_back_up = train_test_split(\n",
    "    ratings, test_size=0.85, random_state=42\n",
    ")\n",
    "\n",
    "# 再拆出 train=10% 和 test=5%\n",
    "ratings_train, ratings_test = train_test_split(\n",
    "    ratings_sample, test_size=0.3333, random_state=42\n",
    ")  # 因為 5%/15% ≈ 1/3\n",
    "\n",
    "print(\"Train:\", ratings_train.shape)\n",
    "print(\"Test:\", ratings_test.shape)\n",
    "print(\"Back-up:\", ratings_back_up.shape)\n",
    "\n",
    "ratings_train.to_csv(os.path.join(DATA_DIR, \"ratings_train.csv\"), index=False)\n",
    "ratings_test.to_csv(os.path.join(DATA_DIR, \"ratings_test.csv\"), index=False)\n",
    "ratings_back_up.to_csv(os.path.join(DATA_DIR, \"ratings_back_up.csv\"), index=False)"
   ]
  },
  {
   "cell_type": "code",
   "execution_count": 3,
   "id": "0e81428c-8e26-48ef-adff-64854dabf849",
   "metadata": {},
   "outputs": [
    {
     "name": "stdout",
     "output_type": "stream",
     "text": [
      "User-Item shape: (57308, 7800)\n"
     ]
    }
   ],
   "source": [
    "user_item_matrix = ratings_train.pivot_table(\n",
    "    index=\"user_id\", \n",
    "    columns=\"anime_id\", \n",
    "    values=\"rating\"\n",
    ").fillna(0)\n",
    "\n",
    "print(\"User-Item shape:\", user_item_matrix.shape)"
   ]
  },
  {
   "cell_type": "code",
   "execution_count": 4,
   "id": "b668d271-1afa-4895-905e-80a85461236d",
   "metadata": {},
   "outputs": [],
   "source": [
    "from sklearn.neighbors import NearestNeighbors\n",
    "\n",
    "knn = NearestNeighbors(metric=\"cosine\", algorithm=\"brute\", n_neighbors=6, n_jobs=-1)\n",
    "knn.fit(user_item_matrix)\n",
    "\n",
    "def recommend(user_id, top_n=10):\n",
    "    if user_id not in user_item_matrix.index:\n",
    "        return pd.DataFrame(columns=[\"name\", \"genre\"])\n",
    "    \n",
    "    # 找出鄰居\n",
    "    user_vector = user_item_matrix.loc[[user_id]]\n",
    "    distances, indices = knn.kneighbors(user_vector, n_neighbors=6)\n",
    "    \n",
    "    neighbor_ids = user_item_matrix.index[indices.flatten()[1:]]  # 排除自己\n",
    "    neighbor_ratings = user_item_matrix.loc[neighbor_ids]\n",
    "    \n",
    "    # 平均分數作為推薦依據\n",
    "    mean_scores = neighbor_ratings.mean().sort_values(ascending=False)\n",
    "    \n",
    "    # 排除 user 已在 train 看過的動畫\n",
    "    seen = user_item_matrix.loc[user_id]\n",
    "    seen = seen[seen > 0].index\n",
    "    recommendations = mean_scores.drop(seen).head(top_n)\n",
    "    \n",
    "    return anime[anime[\"anime_id\"].isin(recommendations.index)][[\"name\", \"genre\"]]"
   ]
  },
  {
   "cell_type": "code",
   "execution_count": 7,
   "id": "6588e285-f799-4d47-9334-134a1a262ee7",
   "metadata": {},
   "outputs": [
    {
     "name": "stdout",
     "output_type": "stream",
     "text": [
      "Baseline Precision@10: 0.001282051282051282\n",
      "Baseline Recall@10: 0.00031269543464665416\n"
     ]
    }
   ],
   "source": [
    "def precision_recall_at_k(user_id, k=10):\n",
    "    recs = recommend(user_id, top_n=k)\n",
    "    if recs.empty:\n",
    "        return np.nan, np.nan\n",
    "    \n",
    "    # 測試集中的喜好動畫\n",
    "    user_test = ratings_test[ratings_test[\"user_id\"] == user_id]\n",
    "    liked = set(user_test[user_test[\"rating\"] > 7][\"anime_id\"])\n",
    "    \n",
    "    if len(liked) == 0:\n",
    "        return np.nan, np.nan\n",
    "    \n",
    "    # 命中數\n",
    "    hit = len(set(recs.index) & liked)\n",
    "    \n",
    "    precision = hit / k\n",
    "    recall = hit / len(liked)\n",
    "    \n",
    "    return precision, recall\n",
    "\n",
    "# 抽樣部分使用者做評估\n",
    "sample_users = np.random.choice(user_item_matrix.index, 100, replace=False)\n",
    "\n",
    "precisions, recalls = [], []\n",
    "for u in sample_users:\n",
    "    p, r = precision_recall_at_k(u, 10)\n",
    "    if not np.isnan(p):\n",
    "        precisions.append(p)\n",
    "    if not np.isnan(r):\n",
    "        recalls.append(r)\n",
    "\n",
    "mean_precision = np.mean(precisions)\n",
    "mean_recall = np.mean(recalls)\n",
    "\n",
    "print(\"Baseline Precision@10:\", mean_precision)\n",
    "print(\"Baseline Recall@10:\", mean_recall)\n"
   ]
  },
  {
   "cell_type": "code",
   "execution_count": 11,
   "id": "fd6d04c5-217f-4ab3-93ff-82903a7acac3",
   "metadata": {},
   "outputs": [
    {
     "name": "stderr",
     "output_type": "stream",
     "text": [
      "2025/09/15 11:54:42 INFO mlflow.tracking.fluent: Experiment with name 'anime-recommender-baseline' does not exist. Creating a new experiment.\n"
     ]
    }
   ],
   "source": [
    "import os, mlflow\n",
    "mlflow.set_tracking_uri(os.getenv(\"MLFLOW_TRACKING_URI\", \"http://mlflow:5000\"))\n",
    "\n",
    "mlflow.set_experiment(\"anime-recommender-baseline\")\n",
    "\n",
    "with mlflow.start_run(run_name=\"user_based_cf_small\"):\n",
    "    mlflow.log_param(\"train_pct\", 10)\n",
    "    mlflow.log_param(\"test_pct\", 5)\n",
    "    mlflow.log_param(\"neighbors\", 5)\n",
    "    mlflow.log_param(\"top_n\", 10)\n",
    "    \n",
    "    mlflow.log_metric(\"precision_at_10\", mean_precision)\n",
    "    mlflow.log_metric(\"recall_at_10\", mean_recall)"
   ]
  }
 ],
 "metadata": {
  "kernelspec": {
   "display_name": "Python 3 (ipykernel)",
   "language": "python",
   "name": "python3"
  },
  "language_info": {
   "codemirror_mode": {
    "name": "ipython",
    "version": 3
   },
   "file_extension": ".py",
   "mimetype": "text/x-python",
   "name": "python",
   "nbconvert_exporter": "python",
   "pygments_lexer": "ipython3",
   "version": "3.10.18"
  }
 },
 "nbformat": 4,
 "nbformat_minor": 5
}
