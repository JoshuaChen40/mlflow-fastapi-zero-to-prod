{
 "cells": [
  {
   "cell_type": "code",
   "execution_count": 1,
   "id": "77e53cd8-e20d-44c9-9e7b-ed5fc972c880",
   "metadata": {},
   "outputs": [
    {
     "name": "stdout",
     "output_type": "stream",
     "text": [
      "Anime: (12294, 7)\n",
      "Train: (633755, 3)\n",
      "Test: (316831, 3)\n"
     ]
    }
   ],
   "source": [
    "import os\n",
    "import pandas as pd\n",
    "\n",
    "DATA_DIR = \"/usr/mlflow/data\"\n",
    "\n",
    "anime = pd.read_csv(os.path.join(DATA_DIR, \"anime_clean.csv\"))\n",
    "ratings_train = pd.read_csv(os.path.join(DATA_DIR, \"ratings_train.csv\"))\n",
    "ratings_test = pd.read_csv(os.path.join(DATA_DIR, \"ratings_test.csv\"))\n",
    "\n",
    "print(\"Anime:\", anime.shape)\n",
    "print(\"Train:\", ratings_train.shape)\n",
    "print(\"Test:\", ratings_test.shape)"
   ]
  },
  {
   "cell_type": "code",
   "execution_count": 2,
   "id": "2b42468d-12f1-4025-bfa6-5791b827905d",
   "metadata": {},
   "outputs": [],
   "source": [
    "import numpy as np\n",
    "\n",
    "def precision_at_k(recommended, relevant, k=10):\n",
    "    return len(set(recommended[:k]) & set(relevant)) / k"
   ]
  },
  {
   "cell_type": "code",
   "execution_count": 3,
   "id": "ef120122-3bd5-4d99-87c6-ca5cc711ea8e",
   "metadata": {
    "scrolled": true
   },
   "outputs": [
    {
     "name": "stderr",
     "output_type": "stream",
     "text": [
      "/usr/local/lib/python3.10/site-packages/tqdm/auto.py:21: TqdmWarning: IProgress not found. Please update jupyter and ipywidgets. See https://ipywidgets.readthedocs.io/en/stable/user_install.html\n",
      "  from .autonotebook import tqdm as notebook_tqdm\n",
      "2025/09/22 16:52:11 INFO mlflow.tracking.fluent: Experiment with name 'anime-recsys-optuna' does not exist. Creating a new experiment.\n",
      "[I 2025-09-22 16:52:11,692] A new study created in memory with name: no-name-70912cc4-cdad-4d81-9d57-7efb6223a175\n",
      "/usr/local/lib/python3.10/site-packages/optuna/distributions.py:524: UserWarning: Choices for a categorical distribution should be a tuple of None, bool, int, float and str for persistent storage but contains (1, 1) which is of type tuple.\n",
      "  warnings.warn(message)\n",
      "/usr/local/lib/python3.10/site-packages/optuna/distributions.py:524: UserWarning: Choices for a categorical distribution should be a tuple of None, bool, int, float and str for persistent storage but contains (1, 2) which is of type tuple.\n",
      "  warnings.warn(message)\n",
      "2025/09/22 16:52:11 WARNING mlflow.utils.git_utils: Failed to import Git (the Git executable is probably not on your PATH), so Git SHA is not available. Error: Failed to initialize: Bad git executable.\n",
      "The git executable must be specified in one of the following ways:\n",
      "    - be included in your $PATH\n",
      "    - be set via $GIT_PYTHON_GIT_EXECUTABLE\n",
      "    - explicitly set via git.refresh(<full-path-to-git-executable>)\n",
      "\n",
      "All git commands will error until this is rectified.\n",
      "\n",
      "This initial message can be silenced or aggravated in the future by setting the\n",
      "$GIT_PYTHON_REFRESH environment variable. Use one of the following values:\n",
      "    - quiet|q|silence|s|silent|none|n|0: for no message or exception\n",
      "    - warn|w|warning|log|l|1: for a warning message (logging level CRITICAL, displayed by default)\n",
      "    - error|e|exception|raise|r|2: for a raised exception\n",
      "\n",
      "Example:\n",
      "    export GIT_PYTHON_REFRESH=quiet\n",
      "\n",
      "[I 2025-09-22 16:52:11,952] Trial 0 finished with value: 0.5642857142857142 and parameters: {'max_features': 1437, 'ngram_range': (1, 1), 'min_df': 1}. Best is trial 0 with value: 0.5642857142857142.\n",
      "/usr/local/lib/python3.10/site-packages/optuna/distributions.py:524: UserWarning: Choices for a categorical distribution should be a tuple of None, bool, int, float and str for persistent storage but contains (1, 1) which is of type tuple.\n",
      "  warnings.warn(message)\n",
      "/usr/local/lib/python3.10/site-packages/optuna/distributions.py:524: UserWarning: Choices for a categorical distribution should be a tuple of None, bool, int, float and str for persistent storage but contains (1, 2) which is of type tuple.\n",
      "  warnings.warn(message)\n",
      "[I 2025-09-22 16:52:12,164] Trial 1 finished with value: 0.7321428571428571 and parameters: {'max_features': 1447, 'ngram_range': (1, 1), 'min_df': 3}. Best is trial 1 with value: 0.7321428571428571.\n",
      "[I 2025-09-22 16:52:12,376] Trial 2 finished with value: 0.48846153846153845 and parameters: {'max_features': 1369, 'ngram_range': (1, 2), 'min_df': 3}. Best is trial 1 with value: 0.7321428571428571.\n",
      "[I 2025-09-22 16:52:12,588] Trial 3 finished with value: 0.5999999999999999 and parameters: {'max_features': 1116, 'ngram_range': (1, 1), 'min_df': 3}. Best is trial 1 with value: 0.7321428571428571.\n",
      "[I 2025-09-22 16:52:12,812] Trial 4 finished with value: 0.524 and parameters: {'max_features': 1416, 'ngram_range': (1, 1), 'min_df': 3}. Best is trial 1 with value: 0.7321428571428571.\n",
      "[I 2025-09-22 16:52:13,024] Trial 5 finished with value: 0.6066666666666667 and parameters: {'max_features': 1176, 'ngram_range': (1, 1), 'min_df': 2}. Best is trial 1 with value: 0.7321428571428571.\n",
      "[I 2025-09-22 16:52:13,248] Trial 6 finished with value: 0.5518518518518518 and parameters: {'max_features': 1160, 'ngram_range': (1, 1), 'min_df': 3}. Best is trial 1 with value: 0.7321428571428571.\n",
      "[I 2025-09-22 16:52:13,464] Trial 7 finished with value: 0.6083333333333334 and parameters: {'max_features': 1372, 'ngram_range': (1, 2), 'min_df': 3}. Best is trial 1 with value: 0.7321428571428571.\n",
      "[I 2025-09-22 16:52:13,680] Trial 8 finished with value: 0.5461538461538461 and parameters: {'max_features': 756, 'ngram_range': (1, 2), 'min_df': 2}. Best is trial 1 with value: 0.7321428571428571.\n",
      "[I 2025-09-22 16:52:13,892] Trial 9 finished with value: 0.6185185185185185 and parameters: {'max_features': 772, 'ngram_range': (1, 1), 'min_df': 1}. Best is trial 1 with value: 0.7321428571428571.\n"
     ]
    },
    {
     "name": "stdout",
     "output_type": "stream",
     "text": [
      "最佳參數: {'max_features': 1447, 'ngram_range': (1, 1), 'min_df': 3}\n"
     ]
    }
   ],
   "source": [
    "import mlflow\n",
    "import optuna\n",
    "from sklearn.feature_extraction.text import TfidfVectorizer\n",
    "from sklearn.metrics.pairwise import cosine_similarity\n",
    "\n",
    "# 抽樣 1000 筆，控制計算時間\n",
    "anime_sample = anime.sample(1000, random_state=42).reset_index(drop=True)\n",
    "\n",
    "mlflow.set_tracking_uri(\"http://mlflow:5000\")\n",
    "mlflow.set_experiment(\"anime-recsys-optuna\")\n",
    "\n",
    "def objective(trial):\n",
    "    # 1️⃣ 抽樣參數\n",
    "    max_features = trial.suggest_int(\"max_features\", 500, 1500)\n",
    "    ngram = trial.suggest_categorical(\"ngram_range\", [(1,1), (1,2)])\n",
    "    min_df = trial.suggest_int(\"min_df\", 1, 3)\n",
    "\n",
    "    # 2️⃣ 訓練 TF-IDF\n",
    "    vectorizer = TfidfVectorizer(\n",
    "        stop_words=\"english\",\n",
    "        max_features=max_features,\n",
    "        ngram_range=ngram,\n",
    "        min_df=min_df\n",
    "    )\n",
    "    tfidf = vectorizer.fit_transform(anime_sample[\"genre\"].fillna(\"\"))\n",
    "\n",
    "    # 3️⃣ 相似度\n",
    "    sim_matrix = cosine_similarity(tfidf)\n",
    "\n",
    "    # 4️⃣ 隨機測試 50 部動畫\n",
    "    test_idx = np.random.choice(len(anime_sample), 50, replace=False)\n",
    "    scores = []\n",
    "    for idx in test_idx:\n",
    "        sim_scores = list(enumerate(sim_matrix[idx]))\n",
    "        sim_scores = sorted(sim_scores, key=lambda x: x[1], reverse=True)\n",
    "        top_idx = [i for i, _ in sim_scores[1:11]]\n",
    "        recommended = anime_sample.iloc[top_idx][\"name\"].tolist()\n",
    "        relevant = anime_sample[anime_sample[\"genre\"] == anime_sample.iloc[idx][\"genre\"]][\"name\"].tolist()\n",
    "        if len(relevant) > 1:\n",
    "            scores.append(precision_at_k(recommended, relevant, k=10))\n",
    "\n",
    "    avg_precision = np.mean(scores)\n",
    "\n",
    "    # 5️⃣ 記錄到 MLflow\n",
    "    with mlflow.start_run(nested=True):\n",
    "        mlflow.log_params({\n",
    "            \"max_features\": max_features,\n",
    "            \"ngram_range\": ngram,\n",
    "            \"min_df\": min_df\n",
    "        })\n",
    "        mlflow.log_metric(\"precision_at_10\", avg_precision)\n",
    "\n",
    "    return avg_precision\n",
    "\n",
    "# 只跑 10 trials，約 3 分鐘內完成\n",
    "study = optuna.create_study(direction=\"maximize\")\n",
    "study.optimize(objective, n_trials=10)\n",
    "\n",
    "print(\"最佳參數:\", study.best_params)\n"
   ]
  },
  {
   "cell_type": "code",
   "execution_count": 6,
   "id": "eeaa487b-3f23-4c0d-96ce-eb3146d90d90",
   "metadata": {
    "scrolled": true
   },
   "outputs": [
    {
     "name": "stderr",
     "output_type": "stream",
     "text": [
      "/usr/local/lib/python3.10/site-packages/_distutils_hack/__init__.py:18: UserWarning: Distutils was imported before Setuptools, but importing Setuptools also replaces the `distutils` module in `sys.modules`. This may lead to undesirable behaviors or errors. To avoid these issues, avoid using distutils directly, ensure that setuptools is installed in the traditional way (e.g. not an editable install), and/or make sure that setuptools is always imported before distutils.\n",
      "  warnings.warn(\n",
      "/usr/local/lib/python3.10/site-packages/_distutils_hack/__init__.py:33: UserWarning: Setuptools is replacing distutils.\n",
      "  warnings.warn(\"Setuptools is replacing distutils.\")\n",
      "Registered model 'AnimeRecsysModel' already exists. Creating a new version of this model...\n",
      "2025/09/22 16:55:01 INFO mlflow.store.model_registry.abstract_store: Waiting up to 300 seconds for model version to finish creation. Model name: AnimeRecsysModel, version 4\n",
      "Created version '4' of model 'AnimeRecsysModel'.\n",
      "/tmp/ipykernel_10/2579195858.py:37: FutureWarning: ``mlflow.tracking.client.MlflowClient.get_latest_versions`` is deprecated since 2.9.0. Model registry stages will be removed in a future major release. To learn more about the deprecation of model registry stages, see our migration guide here: https://mlflow.org/docs/latest/model-registry.html#migrating-from-stages\n",
      "  latest = client.get_latest_versions(\"AnimeRecsysModel\", stages=[\"None\"])[-1]\n",
      "/tmp/ipykernel_10/2579195858.py:38: FutureWarning: ``mlflow.tracking.client.MlflowClient.transition_model_version_stage`` is deprecated since 2.9.0. Model registry stages will be removed in a future major release. To learn more about the deprecation of model registry stages, see our migration guide here: https://mlflow.org/docs/latest/model-registry.html#migrating-from-stages\n",
      "  client.transition_model_version_stage(\n"
     ]
    },
    {
     "name": "stdout",
     "output_type": "stream",
     "text": [
      "Artifacts URI: mlflow-artifacts:/10/1cf9c1d7ae5145d1acf6d560827ed69a/artifacts\n"
     ]
    },
    {
     "data": {
      "text/plain": [
       "<ModelVersion: aliases=[], creation_timestamp=1758560101564, current_stage='Staging', description='', last_updated_timestamp=1758560101722, name='AnimeRecsysModel', run_id='1cf9c1d7ae5145d1acf6d560827ed69a', run_link='', source='mlflow-artifacts:/10/1cf9c1d7ae5145d1acf6d560827ed69a/artifacts/model', status='READY', status_message='', tags={}, user_id='', version='4'>"
      ]
     },
     "execution_count": 6,
     "metadata": {},
     "output_type": "execute_result"
    }
   ],
   "source": [
    "from mlflow import pyfunc\n",
    "from mlflow.tracking import MlflowClient\n",
    "\n",
    "best_params = study.best_params\n",
    "\n",
    "vectorizer = TfidfVectorizer(\n",
    "    stop_words=\"english\",\n",
    "    max_features=best_params[\"max_features\"],\n",
    "    ngram_range=best_params[\"ngram_range\"],\n",
    "    min_df=best_params[\"min_df\"]\n",
    ")\n",
    "tfidf = vectorizer.fit_transform(anime_sample[\"genre\"].fillna(\"\"))\n",
    "sim_matrix = cosine_similarity(tfidf)\n",
    "\n",
    "class ItemBasedTFIDF(pyfunc.PythonModel):\n",
    "    def __init__(self, df, sim_matrix):\n",
    "        self.df = df\n",
    "        self.sim_matrix = sim_matrix\n",
    "    def predict(self, context, model_input):\n",
    "        anime_title = model_input[0]\n",
    "        idx = self.df[self.df[\"name\"] == anime_title].index[0]\n",
    "        sim_scores = list(enumerate(self.sim_matrix[idx]))\n",
    "        sim_scores = sorted(sim_scores, key=lambda x: x[1], reverse=True)\n",
    "        top_idx = [i for i, _ in sim_scores[1:11]]\n",
    "        return self.df.iloc[top_idx][\"name\"].tolist()\n",
    "\n",
    "with mlflow.start_run(run_name=\"best-item-tfidf\") as run:\n",
    "    mlflow.pyfunc.log_model(\n",
    "        artifact_path=\"model\",\n",
    "        python_model=ItemBasedTFIDF(anime_sample, sim_matrix),\n",
    "        registered_model_name=\"AnimeRecsysModel\"\n",
    "    )\n",
    "    print(\"Artifacts URI:\", run.info.artifact_uri)\n",
    "\n",
    "# 把最新版本升級到 Staging\n",
    "client = MlflowClient()\n",
    "latest = client.get_latest_versions(\"AnimeRecsysModel\", stages=[\"None\"])[-1]\n",
    "client.transition_model_version_stage(\n",
    "    name=\"AnimeRecsysModel\",\n",
    "    version=latest.version,\n",
    "    stage=\"Staging\"\n",
    ")\n"
   ]
  }
 ],
 "metadata": {
  "kernelspec": {
   "display_name": "Python 3 (ipykernel)",
   "language": "python",
   "name": "python3"
  },
  "language_info": {
   "codemirror_mode": {
    "name": "ipython",
    "version": 3
   },
   "file_extension": ".py",
   "mimetype": "text/x-python",
   "name": "python",
   "nbconvert_exporter": "python",
   "pygments_lexer": "ipython3",
   "version": "3.10.18"
  }
 },
 "nbformat": 4,
 "nbformat_minor": 5
}
